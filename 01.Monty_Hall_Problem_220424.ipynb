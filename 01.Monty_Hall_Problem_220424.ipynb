{
 "cells": [
  {
   "cell_type": "markdown",
   "metadata": {},
   "source": [
    "## Daily Code Workout Day 1(220424)\n",
    "1. Monty Hall Problem"
   ]
  },
  {
   "cell_type": "markdown",
   "metadata": {},
   "source": [
    "#### 00. Packages Used"
   ]
  },
  {
   "cell_type": "code",
   "execution_count": 1,
   "metadata": {},
   "outputs": [],
   "source": [
    "import pandas as pd\n",
    "import numpy as np\n",
    "import random"
   ]
  },
  {
   "cell_type": "markdown",
   "metadata": {},
   "source": [
    "#### 01.  Randomized Answers"
   ]
  },
  {
   "cell_type": "code",
   "execution_count": 2,
   "metadata": {},
   "outputs": [],
   "source": [
    "door_num = [1, 2, 3]\n",
    "sim_df = pd.DataFrame([random.choice(door_num) for x in range(1000)], columns = [\"answer\"])"
   ]
  },
  {
   "cell_type": "markdown",
   "metadata": {},
   "source": [
    "#### 02. First Guesses & Opening One of the Wrong Doors"
   ]
  },
  {
   "cell_type": "code",
   "execution_count": 3,
   "metadata": {},
   "outputs": [],
   "source": [
    "sim_df['first_g'] = pd.Series([random.choice(door_num) for x in range(1000)])\n",
    "sim_df['open'] = sim_df.apply(lambda x: random.choice([y for y in door_num if \n",
    "                                                       y not in [x['first_g'], x['answer']]]), axis = 1)"
   ]
  },
  {
   "cell_type": "markdown",
   "metadata": {},
   "source": [
    "#### 03. Shift Vs. Stay"
   ]
  },
  {
   "cell_type": "code",
   "execution_count": 4,
   "metadata": {},
   "outputs": [],
   "source": [
    "sim_df['Shift'] = sim_df.apply(lambda x: [y for y in door_num if \n",
    "                                          y not in [x['first_g'], x['open']]][0], axis = 1)\n",
    "sim_df['Stay'] = sim_df['first_g']"
   ]
  },
  {
   "cell_type": "code",
   "execution_count": 5,
   "metadata": {},
   "outputs": [
    {
     "name": "stdout",
     "output_type": "stream",
     "text": [
      "Shifting WR : 67.5 %\n",
      "Staying WR : 32.5 %\n"
     ]
    }
   ],
   "source": [
    "print(\"Shifting WR :\", sim_df[sim_df['Shift'] == sim_df['answer']].shape[0]/1000*100, \"%\")\n",
    "print(\"Staying WR :\", sim_df[sim_df['Stay'] == sim_df['answer']].shape[0]/1000*100, \"%\")"
   ]
  },
  {
   "cell_type": "markdown",
   "metadata": {},
   "source": [
    "#### 04. Function"
   ]
  },
  {
   "cell_type": "code",
   "execution_count": 6,
   "metadata": {},
   "outputs": [],
   "source": [
    "def MH_sim(num = 1000):\n",
    "    door_num = [1, 2, 3]\n",
    "    sim_df = pd.DataFrame([random.choice(door_num) for x in range(num)], columns = [\"answer\"])\n",
    "    sim_df['first_g'] = pd.Series([random.choice(door_num) for x in range(num)])\n",
    "    sim_df['open'] = sim_df.apply(lambda x: random.choice([y for y in door_num if \n",
    "                                                           y not in [x['first_g'], x['answer']]]), axis = 1)\n",
    "    sim_df['Shift'] = sim_df.apply(lambda x: [y for y in door_num if \n",
    "                                          y not in [x['first_g'], x['open']]][0], axis = 1)\n",
    "    sim_df['Stay'] = sim_df['first_g']\n",
    "    return({\"Shift\": round(sim_df[sim_df['Shift'] == sim_df['answer']].shape[0]/num*100, 2),\n",
    "            \"Stay\":round(sim_df[sim_df['Stay'] == sim_df['answer']].shape[0]/num*100, 2)})"
   ]
  },
  {
   "cell_type": "markdown",
   "metadata": {},
   "source": [
    "#### 05. Simulation (n = 1000)"
   ]
  },
  {
   "cell_type": "code",
   "execution_count": 7,
   "metadata": {},
   "outputs": [
    {
     "name": "stdout",
     "output_type": "stream",
     "text": [
      "Wall time: 1min 29s\n"
     ]
    }
   ],
   "source": [
    "%%time\n",
    "sim_rec = pd.DataFrame([MH_sim(num = 1000) for x in range(1000)])"
   ]
  },
  {
   "cell_type": "code",
   "execution_count": 9,
   "metadata": {},
   "outputs": [
    {
     "data": {
      "text/plain": [
       "<matplotlib.axes._subplots.AxesSubplot at 0x285db2fff88>"
      ]
     },
     "execution_count": 9,
     "metadata": {},
     "output_type": "execute_result"
    },
    {
     "data": {
      "image/png": "[encoded data removed]",
      "text/plain": [
       "<Figure size 432x288 with 1 Axes>"
      ]
     },
     "metadata": {
      "needs_background": "light"
     },
     "output_type": "display_data"
    }
   ],
   "source": [
    "sim_rec.plot()"
   ]
  }
 ],
 "metadata": {
  "kernelspec": {
   "display_name": "Python 3",
   "language": "python",
   "name": "python3"
  },
  "language_info": {
   "codemirror_mode": {
    "name": "ipython",
    "version": 3
   },
   "file_extension": ".py",
   "mimetype": "text/x-python",
   "name": "python",
   "nbconvert_exporter": "python",
   "pygments_lexer": "ipython3",
   "version": "3.7.4"
  }
 },
 "nbformat": 4,
 "nbformat_minor": 2
}
